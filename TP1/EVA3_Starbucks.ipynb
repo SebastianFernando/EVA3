{
  "nbformat": 4,
  "nbformat_minor": 0,
  "metadata": {
    "colab": {
      "provenance": [],
      "include_colab_link": true
    },
    "kernelspec": {
      "name": "python3",
      "display_name": "Python 3"
    },
    "language_info": {
      "name": "python"
    }
  },
  "cells": [
    {
      "cell_type": "markdown",
      "metadata": {
        "id": "view-in-github",
        "colab_type": "text"
      },
      "source": [
        "<a href=\"https://colab.research.google.com/github/SebastianFernando/EVA3/blob/main/TP1/EVA3_Starbucks.ipynb\" target=\"_parent\"><img src=\"https://colab.research.google.com/assets/colab-badge.svg\" alt=\"Open In Colab\"/></a>"
      ]
    },
    {
      "cell_type": "code",
      "source": [
        "import pandas as pd\n",
        "import numpy as np\n",
        "\n",
        "# Generar datos ficticios\n",
        "\n",
        "# Datos de ventas\n",
        "ventas = pd.DataFrame({\n",
        "    'TransactionID': np.arange(1, 101),\n",
        "    'CustomerID': np.random.randint(1, 50, 100),\n",
        "    'ProductID': np.random.randint(1, 20, 100),\n",
        "    'Quantity': np.random.randint(1, 5, 100),\n",
        "    'TransactionDate': pd.date_range(start='2023-01-01', periods=100, freq='D'),\n",
        "    'TotalAmount': np.random.uniform(5.0, 50.0, 100)\n",
        "})\n",
        "\n",
        "# Datos de preferencias de clientes\n",
        "preferencias = pd.DataFrame({\n",
        "    'CustomerID': np.arange(1, 51),\n",
        "    'Preferences': np.random.choice(['Coffee', 'Tea', 'Pastries', 'Sandwiches'], 50),\n",
        "    'Frequency': np.random.randint(1, 10, 50)\n",
        "})\n",
        "\n",
        "# Datos de inventario\n",
        "inventario = pd.DataFrame({\n",
        "    'ProductID': np.arange(1, 21),\n",
        "    'StockLevel': np.random.randint(0, 100, 20),\n",
        "    'ReorderLevel': np.random.randint(10, 20, 20),\n",
        "    'SupplierID': np.random.randint(1, 10, 20)\n",
        "})\n",
        "\n",
        "# Datos de tráfico\n",
        "trafico = pd.DataFrame({\n",
        "    'StoreID': np.random.randint(1, 10, 100),\n",
        "    'CustomerID': np.random.randint(1, 50, 100),\n",
        "    'VisitDate': pd.date_range(start='2023-01-01', periods=100, freq='D'),\n",
        "    'Duration': np.random.randint(10, 120, 100)\n",
        "})\n",
        "\n",
        "# Datos de eventos\n",
        "eventos = pd.DataFrame({\n",
        "    'EventID': np.arange(1, 11),\n",
        "    'EventType': np.random.choice(['Promotion', 'Holiday', 'Weekend', 'Special Event'], 10),\n",
        "    'WeatherCondition': np.random.choice(['Sunny', 'Rainy', 'Snowy', 'Cloudy'], 10),\n",
        "    'Temperature': np.random.uniform(-10.0, 35.0, 10)\n",
        "})\n",
        "\n",
        "# Datos de feedback\n",
        "feedback = pd.DataFrame({\n",
        "    'FeedbackID': np.arange(1, 21),\n",
        "    'CustomerID': np.random.randint(1, 50, 20),\n",
        "    'EmployeeID': np.random.randint(1, 10, 20),\n",
        "    'Rating': np.random.randint(1, 6, 20),\n",
        "    'Comments': np.random.choice(['Great service!', 'Very satisfied', 'Okay', 'Could be better', 'Not happy'], 20)\n",
        "})\n",
        "\n",
        "# Guardar los datos en archivos CSV\n",
        "ventas.to_csv('ventas.csv', index=False)\n",
        "preferencias.to_csv('preferencias.csv', index=False)\n",
        "inventario.to_csv('inventario.csv', index=False)\n",
        "trafico.to_csv('trafico.csv', index=False)\n",
        "eventos.to_csv('eventos.csv', index=False)\n",
        "feedback.to_csv('feedback.csv', index=False)\n",
        "\n",
        "# Cargar los datos desde los archivos CSV (simulando que ya están guardados)\n",
        "ventas = pd.read_csv('ventas.csv')\n",
        "preferencias = pd.read_csv('preferencias.csv')\n",
        "inventario = pd.read_csv('inventario.csv')\n",
        "trafico = pd.read_csv('trafico.csv')\n",
        "eventos = pd.read_csv('eventos.csv')\n",
        "feedback = pd.read_csv('feedback.csv')\n",
        "\n",
        "# Elaboración del Diccionario de Datos\n",
        "diccionario = {\n",
        "    'ventas': {\n",
        "        'TransactionID': 'Identificador único de la transacción (Entero)',\n",
        "        'CustomerID': 'Identificador único del cliente (Entero)',\n",
        "        'ProductID': 'Identificador único del producto (Entero)',\n",
        "        'Quantity': 'Cantidad de producto comprada (Entero)',\n",
        "        'TransactionDate': 'Fecha y hora de la transacción (Fecha)',\n",
        "        'TotalAmount': 'Monto total de la transacción (Flotante)'\n",
        "    },\n",
        "    'preferencias': {\n",
        "        'CustomerID': 'Identificador único del cliente (Entero)',\n",
        "        'Preferences': 'Lista de preferencias del cliente (Cadena)',\n",
        "        'Frequency': 'Frecuencia de visitas del cliente (Entero)'\n",
        "    },\n",
        "    'inventario': {\n",
        "        'ProductID': 'Identificador único del producto (Entero)',\n",
        "        'StockLevel': 'Nivel de stock actual del producto (Entero)',\n",
        "        'ReorderLevel': 'Nivel de stock mínimo para reordenar (Entero)',\n",
        "        'SupplierID': 'Identificador único del proveedor (Entero)'\n",
        "    },\n",
        "    'trafico': {\n",
        "        'StoreID': 'Identificador único de la tienda (Entero)',\n",
        "        'CustomerID': 'Identificador único del cliente (Entero)',\n",
        "        'VisitDate': 'Fecha de la visita (Fecha)',\n",
        "        'Duration': 'Duración de la visita en minutos (Entero)'\n",
        "    },\n",
        "    'eventos': {\n",
        "        'EventID': 'Identificador único del evento (Entero)',\n",
        "        'EventType': 'Tipo de evento (Cadena)',\n",
        "        'WeatherCondition': 'Condición climática (Cadena)',\n",
        "        'Temperature': 'Temperatura en grados Celsius (Flotante)'\n",
        "    },\n",
        "    'feedback': {\n",
        "        'FeedbackID': 'Identificador único del feedback (Entero)',\n",
        "        'CustomerID': 'Identificador único del cliente (Entero)',\n",
        "        'EmployeeID': 'Identificador único del empleado (Entero)',\n",
        "        'Rating': 'Calificación del cliente (1-5) (Entero)',\n",
        "        'Comments': 'Comentarios del cliente (Cadena)'\n",
        "    }\n",
        "}\n",
        "\n",
        "# Imprimir diccionario de datos\n",
        "for tabla, variables in diccionario.items():\n",
        "    print(f\"Tabla: {tabla}\")\n",
        "    for variable, descripcion in variables.items():\n",
        "        print(f\"  {variable}: {descripcion}\")\n",
        "    print(\"\\n\")\n"
      ],
      "metadata": {
        "colab": {
          "base_uri": "https://localhost:8080/"
        },
        "id": "snGHR8qDlOod",
        "outputId": "8e0c5494-43cf-48a2-9061-aab080781eae"
      },
      "execution_count": null,
      "outputs": [
        {
          "output_type": "stream",
          "name": "stdout",
          "text": [
            "Tabla: ventas\n",
            "  TransactionID: Identificador único de la transacción (Entero)\n",
            "  CustomerID: Identificador único del cliente (Entero)\n",
            "  ProductID: Identificador único del producto (Entero)\n",
            "  Quantity: Cantidad de producto comprada (Entero)\n",
            "  TransactionDate: Fecha y hora de la transacción (Fecha)\n",
            "  TotalAmount: Monto total de la transacción (Flotante)\n",
            "\n",
            "\n",
            "Tabla: preferencias\n",
            "  CustomerID: Identificador único del cliente (Entero)\n",
            "  Preferences: Lista de preferencias del cliente (Cadena)\n",
            "  Frequency: Frecuencia de visitas del cliente (Entero)\n",
            "\n",
            "\n",
            "Tabla: inventario\n",
            "  ProductID: Identificador único del producto (Entero)\n",
            "  StockLevel: Nivel de stock actual del producto (Entero)\n",
            "  ReorderLevel: Nivel de stock mínimo para reordenar (Entero)\n",
            "  SupplierID: Identificador único del proveedor (Entero)\n",
            "\n",
            "\n",
            "Tabla: trafico\n",
            "  StoreID: Identificador único de la tienda (Entero)\n",
            "  CustomerID: Identificador único del cliente (Entero)\n",
            "  VisitDate: Fecha de la visita (Fecha)\n",
            "  Duration: Duración de la visita en minutos (Entero)\n",
            "\n",
            "\n",
            "Tabla: eventos\n",
            "  EventID: Identificador único del evento (Entero)\n",
            "  EventType: Tipo de evento (Cadena)\n",
            "  WeatherCondition: Condición climática (Cadena)\n",
            "  Temperature: Temperatura en grados Celsius (Flotante)\n",
            "\n",
            "\n",
            "Tabla: feedback\n",
            "  FeedbackID: Identificador único del feedback (Entero)\n",
            "  CustomerID: Identificador único del cliente (Entero)\n",
            "  EmployeeID: Identificador único del empleado (Entero)\n",
            "  Rating: Calificación del cliente (1-5) (Entero)\n",
            "  Comments: Comentarios del cliente (Cadena)\n",
            "\n",
            "\n"
          ]
        }
      ]
    },
    {
      "cell_type": "code",
      "source": [
        "# Análisis univariado de las ventas\n",
        "print(\"Análisis Univariado de Ventas\")\n",
        "print(ventas.describe())\n",
        "print(\"Valores nulos en Ventas:\", ventas.isnull().sum())\n",
        "\n",
        "# Histograma de TotalAmount\n",
        "import matplotlib.pyplot as plt\n",
        "import seaborn as sns\n",
        "\n",
        "sns.histplot(ventas['TotalAmount'])\n",
        "plt.title('Distribución de Monto Total de Ventas')\n",
        "plt.xlabel('Monto Total')\n",
        "plt.ylabel('Frecuencia')\n",
        "plt.show()\n"
      ],
      "metadata": {
        "colab": {
          "base_uri": "https://localhost:8080/",
          "height": 767
        },
        "id": "YdBa3SCAtDtu",
        "outputId": "03c1258e-acb3-4aa9-c2d1-5b5a2d9a7cf3"
      },
      "execution_count": null,
      "outputs": [
        {
          "output_type": "stream",
          "name": "stdout",
          "text": [
            "Análisis Univariado de Ventas\n",
            "       TransactionID  CustomerID   ProductID    Quantity  TotalAmount\n",
            "count     100.000000  100.000000  100.000000  100.000000   100.000000\n",
            "mean       50.500000   22.780000    9.980000    2.720000    28.697175\n",
            "std        29.011492   14.706269    5.663957    1.110828    12.557119\n",
            "min         1.000000    1.000000    1.000000    1.000000     5.113798\n",
            "25%        25.750000    9.000000    5.000000    2.000000    18.969158\n",
            "50%        50.500000   23.500000    9.000000    3.000000    29.681689\n",
            "75%        75.250000   36.000000   15.000000    4.000000    39.817449\n",
            "max       100.000000   49.000000   19.000000    4.000000    49.857546\n",
            "Valores nulos en Ventas: TransactionID      0\n",
            "CustomerID         0\n",
            "ProductID          0\n",
            "Quantity           0\n",
            "TransactionDate    0\n",
            "TotalAmount        0\n",
            "dtype: int64\n"
          ]
        },
        {
          "output_type": "display_data",
          "data": {
            "text/plain": [
              "<Figure size 640x480 with 1 Axes>"
            ],
            "image/png": "[encoded data removed]"
          },
          "metadata": {}
        }
      ]
    },
    {
      "cell_type": "markdown",
      "source": [
        "Preparación de Datos"
      ],
      "metadata": {
        "id": "4QaLVqNqaJ8Z"
      }
    },
    {
      "cell_type": "code",
      "source": [
        "import pandas as pd\n",
        "import numpy as np\n",
        "\n",
        "# Crear un DataFrame ficticio\n",
        "np.random.seed(42)\n",
        "dates = pd.date_range(start='2023-01-01', periods=365)\n",
        "stores = ['Store_A', 'Store_B', 'Store_C']\n",
        "days_of_week = ['Monday', 'Tuesday', 'Wednesday', 'Thursday', 'Friday', 'Saturday', 'Sunday']\n",
        "events = ['None', 'Promotion', 'Holiday']\n",
        "temperatures = np.random.uniform(0, 30, size=365)\n",
        "rain = np.random.choice([0, 1], size=365)  # 0: No rain, 1: Rain\n",
        "\n",
        "data = {\n",
        "    'Date': dates,\n",
        "    'Store': np.random.choice(stores, size=365),\n",
        "    'DayOfWeek': [days_of_week[date.weekday()] for date in dates],\n",
        "    'Event': np.random.choice(events, size=365),\n",
        "    'Temperature': temperatures,\n",
        "    'Rain': rain,\n",
        "    'Sales': np.random.uniform(1000, 5000, size=365)\n",
        "}\n",
        "\n",
        "df = pd.DataFrame(data)\n",
        "print(df.head())\n"
      ],
      "metadata": {
        "colab": {
          "base_uri": "https://localhost:8080/"
        },
        "id": "Fab4ohn4ZOcK",
        "outputId": "3ea1ab6e-56b8-4156-d520-8fdc392c6665"
      },
      "execution_count": null,
      "outputs": [
        {
          "output_type": "stream",
          "name": "stdout",
          "text": [
            "        Date    Store  DayOfWeek      Event  Temperature  Rain        Sales\n",
            "0 2023-01-01  Store_B     Sunday    Holiday    11.236204     0  4997.413998\n",
            "1 2023-01-02  Store_B     Monday  Promotion    28.521429     0  3223.226326\n",
            "2 2023-01-03  Store_B    Tuesday    Holiday    21.959818     0  2892.840472\n",
            "3 2023-01-04  Store_B  Wednesday    Holiday    17.959755     1  2251.419426\n",
            "4 2023-01-05  Store_C   Thursday       None     4.680559     1  1482.090315\n"
          ]
        }
      ]
    },
    {
      "cell_type": "markdown",
      "source": [
        "Entrenamiento del Modelo"
      ],
      "metadata": {
        "id": "KYrZ7uEsaO75"
      }
    },
    {
      "cell_type": "code",
      "source": [
        "from sklearn.model_selection import train_test_split\n",
        "from sklearn.ensemble import RandomForestRegressor\n",
        "from sklearn.metrics import mean_absolute_error\n",
        "\n",
        "# Codificar variables categóricas\n",
        "df_encoded = pd.get_dummies(df, columns=['Store', 'DayOfWeek', 'Event'], drop_first=True)\n",
        "\n",
        "# Definir características y etiquetas\n",
        "X = df_encoded.drop(['Date', 'Sales'], axis=1)\n",
        "y = df_encoded['Sales']\n",
        "\n",
        "# Dividir en conjuntos de entrenamiento y prueba\n",
        "X_train, X_test, y_train, y_test = train_test_split(X, y, test_size=0.2, random_state=42)\n",
        "\n",
        "# Entrenar el modelo\n",
        "model = RandomForestRegressor(n_estimators=100, random_state=42)\n",
        "model.fit(X_train, y_train)\n",
        "\n",
        "# Evaluar el modelo\n",
        "y_pred = model.predict(X_test)\n",
        "mae = mean_absolute_error(y_test, y_pred)\n",
        "print(f'Mean Absolute Error: {mae}')\n"
      ],
      "metadata": {
        "colab": {
          "base_uri": "https://localhost:8080/"
        },
        "id": "mrXertaUZdfS",
        "outputId": "6b6af8d3-086e-48c8-dcd3-a35d5318b566"
      },
      "execution_count": null,
      "outputs": [
        {
          "output_type": "stream",
          "name": "stdout",
          "text": [
            "Mean Absolute Error: 1102.5713804264528\n"
          ]
        }
      ]
    },
    {
      "cell_type": "markdown",
      "source": [
        "Optimización de Hiperparámetros con Grid Search"
      ],
      "metadata": {
        "id": "x3aRZ8PIaZLp"
      }
    },
    {
      "cell_type": "code",
      "source": [
        "from sklearn.model_selection import GridSearchCV\n",
        "\n",
        "# Definir el modelo\n",
        "model = RandomForestRegressor(random_state=42)\n",
        "\n",
        "# Definir el espacio de búsqueda de hiperparámetros\n",
        "param_grid = {\n",
        "    'n_estimators': [50, 100, 200],\n",
        "    'max_depth': [None, 10, 20, 30],\n",
        "    'min_samples_split': [2, 5, 10],\n",
        "    'min_samples_leaf': [1, 2, 4],\n",
        "    'bootstrap': [True, False]\n",
        "}\n",
        "\n",
        "# Configurar la búsqueda de hiperparámetros\n",
        "grid_search = GridSearchCV(estimator=model, param_grid=param_grid, cv=3, n_jobs=-1, verbose=2, scoring='neg_mean_absolute_error')\n",
        "\n",
        "# Ejecutar la búsqueda\n",
        "grid_search.fit(X_train, y_train)\n",
        "\n",
        "# Obtener los mejores hiperparámetros\n",
        "best_params = grid_search.best_params_\n",
        "print(f'Best parameters found: {best_params}')\n",
        "\n",
        "# Entrenar el modelo con los mejores hiperparámetros\n",
        "best_model = grid_search.best_estimator_\n",
        "best_model.fit(X_train, y_train)\n",
        "\n",
        "# Evaluar el modelo\n",
        "y_pred = best_model.predict(X_test)\n",
        "mae = mean_absolute_error(y_test, y_pred)\n",
        "print(f'Optimized Mean Absolute Error: {mae}')\n"
      ],
      "metadata": {
        "colab": {
          "base_uri": "https://localhost:8080/"
        },
        "id": "LQuvZZREZ5YN",
        "outputId": "3ef6bd60-340e-4ca4-f946-54df43b94a1b"
      },
      "execution_count": null,
      "outputs": [
        {
          "output_type": "stream",
          "name": "stdout",
          "text": [
            "Fitting 3 folds for each of 216 candidates, totalling 648 fits\n",
            "Best parameters found: {'bootstrap': True, 'max_depth': 10, 'min_samples_leaf': 2, 'min_samples_split': 10, 'n_estimators': 50}\n",
            "Optimized Mean Absolute Error: 1071.5273493555417\n"
          ]
        }
      ]
    },
    {
      "cell_type": "markdown",
      "source": [
        "Validación Cruzada"
      ],
      "metadata": {
        "id": "aLsJcvLgabFt"
      }
    },
    {
      "cell_type": "code",
      "source": [
        "from sklearn.model_selection import cross_val_score\n",
        "\n",
        "# Evaluar el modelo utilizando validación cruzada\n",
        "cv_scores = cross_val_score(best_model, X, y, cv=5, scoring='neg_mean_absolute_error')\n",
        "cv_mae = -cv_scores.mean()\n",
        "print(f'Cross-validated Mean Absolute Error: {cv_mae}')\n"
      ],
      "metadata": {
        "colab": {
          "base_uri": "https://localhost:8080/"
        },
        "id": "Y37AK008Z8FZ",
        "outputId": "989dbc27-709d-402d-e1fd-cdeba75d0df7"
      },
      "execution_count": null,
      "outputs": [
        {
          "output_type": "stream",
          "name": "stdout",
          "text": [
            "Cross-validated Mean Absolute Error: 1041.7800185070396\n"
          ]
        }
      ]
    }
  ]
}